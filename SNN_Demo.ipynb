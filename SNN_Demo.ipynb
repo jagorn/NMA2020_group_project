{
 "cells": [
  {
   "cell_type": "markdown",
   "metadata": {},
   "source": [
    "#### downgrade scipy if smm complained"
   ]
  },
  {
   "cell_type": "code",
   "execution_count": 2,
   "metadata": {},
   "outputs": [],
   "source": [
    "# import sys\n",
    "# !{sys.executable} -m pip install autograd\n",
    "\n",
    "# !{sys.executable} -m pip install seaborn\n",
    "\n",
    "# !{sys.executable} -m pip install ssm\n",
    "# import sys\n",
    "# !{sys.executable} -m pip install scipy==1.2.1"
   ]
  },
  {
   "cell_type": "code",
   "execution_count": 3,
   "metadata": {},
   "outputs": [],
   "source": [
    "from scipy.linalg import block_diag\n",
    "import autograd.numpy as np\n",
    "import seaborn as sns\n",
    "import matplotlib.pyplot as plt\n",
    "import ssm\n",
    "\n",
    "%matplotlib inline"
   ]
  },
  {
   "cell_type": "markdown",
   "metadata": {},
   "source": [
    "## all old stuff"
   ]
  },
  {
   "cell_type": "code",
   "execution_count": 194,
   "metadata": {},
   "outputs": [],
   "source": [
    "# loading and dataset functions\n",
    "\n",
    "import pathlib\n",
    "import os.path\n",
    "import csv\n",
    "import numpy as np\n",
    "\n",
    "\"\"\" FILE NAMES \"\"\"\n",
    "# Quality of recordings for a given active neuron\n",
    "f_quality = \"clusters._phy_annotation.npy\"\n",
    "# Which neuron was detected by which channel:\n",
    "f_channels = \"clusters.peakChannel.npy\"\n",
    "# Active neurons indices:\n",
    "f_clusters = \"spikes.clusters.npy\"\n",
    "# Info about channels <-> brain areas:\n",
    "f_areas = \"channels.brainLocation.tsv\"\n",
    "\n",
    "# Time of spike:\n",
    "f_times = \"spikes.times.npy\"\n",
    "# Times of visual stimulations for each trial\n",
    "f_visual = \"trials.visualStim_times.npy\"\n",
    "# Times of auditory cue for each trial\n",
    "f_cue = \"trials.goCue_times.npy\"\n",
    "\n",
    "\n",
    "# Info about the trial time intervals:\n",
    "f_trials = \"trials.intervals.npy\"\n",
    "# Info about the trials used:\n",
    "f_trials_idx = \"trials.included.npy\"\n",
    "\n",
    "# Location of the project\n",
    "project_path = pathlib.Path().absolute()\n",
    "\n",
    "\n",
    "\"\"\" LOADING FUNCTIONS \"\"\"\n",
    "\n",
    "\n",
    "def load_visual_stim_times(recording_name):\n",
    "    # Returns a vector of length n_trials. Each value tells the time at which the stimulus was played for a given trial\n",
    "    data_path = os.path.join(project_path, 'data', recording_name)\n",
    "    visual_times_file = os.path.join(data_path, f_visual)\n",
    "    visual_times = np.load(visual_times_file)\n",
    "    visual_times = visual_times.reshape(len(visual_times))\n",
    "    return visual_times\n",
    "\n",
    "\n",
    "def load_cue_times(recording_name):\n",
    "    # Returns a vector of length n_trials. Each value tells the time at which the cue was played for a given trial\n",
    "    data_path = os.path.join(project_path, 'data', recording_name)\n",
    "    cue_times = os.path.join(data_path, f_cue)\n",
    "    cue_times = np.load(cue_times)\n",
    "    cue_times = cue_times.reshape(len(cue_times))\n",
    "    return cue_times\n",
    "\n",
    "\n",
    "def load_neuron_regions(recording_name):\n",
    "    # Returns a vector of length n_neurons. Each value tells the brain area of the given neuron\n",
    "    data_path = os.path.join(project_path, 'data', recording_name)\n",
    "\n",
    "    # Load info about neuron's channel\n",
    "    channels_file = os.path.join(data_path, f_channels)\n",
    "    neurons_2_channels = np.load(channels_file)\n",
    "    neurons_2_channels = neurons_2_channels.reshape(len(neurons_2_channels))\n",
    "\n",
    "    # Load info about channel's regions\n",
    "    areas_file = os.path.join(data_path, f_areas)\n",
    "    reader = csv.reader(open(areas_file, \"r\"), delimiter=\"\\t\")\n",
    "    regions_2_channels = np.array(list(reader))[:, 3]\n",
    "    neurons_2_channels = neurons_2_channels.reshape(len(neurons_2_channels))\n",
    "    neurons_2_channels = neurons_2_channels.astype(int)\n",
    "\n",
    "    # Combine the information above to discover which region corresponds to each neuron\n",
    "    neuron_2_regions = regions_2_channels[neurons_2_channels]\n",
    "    return neuron_2_regions\n",
    "\n",
    "\n",
    "def load_neuron_grades(recording_name):\n",
    "    # Returns a vector of length n_neurons. Each value tells the grade (1=bad, 2=decent, 3=good) of the given neuron\n",
    "    data_path = os.path.join(project_path, 'data', recording_name)\n",
    "    grades_file = os.path.join(data_path, f_quality)\n",
    "    neuron_2_grades = np.load(grades_file)\n",
    "    neuron_2_grades = neuron_2_grades.reshape(len(neuron_2_grades))\n",
    "    neuron_2_grades = neuron_2_grades.astype(int)\n",
    "    return neuron_2_grades\n",
    "\n",
    "\n",
    "def load_trial_intervals(recording_name, idx=None):\n",
    "    # Returns a vector of length n_neurons. Each value tells the grade (1=bad, 2=decent, 3=good) of the given neuron\n",
    "    data_path = os.path.join(project_path, 'data', recording_name)\n",
    "    trials_file = os.path.join(data_path, f_trials)\n",
    "    trials_indices_file = os.path.join(data_path, f_trials_idx)\n",
    "\n",
    "    trials = np.load(trials_file)\n",
    "    trials_indices = np.load(trials_indices_file)\n",
    "    selected_trials = clean_trials(trials, trials_indices)\n",
    "\n",
    "    if idx is not None:\n",
    "        selected_trials = selected_trials[idx]\n",
    "\n",
    "    return selected_trials\n",
    "\n",
    "\n",
    "def load_spike_times(recording_name):\n",
    "    # Returns a vector of length n_spikes. Each value tells the time at which the spike was recorded (in seconds)\n",
    "    data_path = os.path.join(project_path, 'data', recording_name)\n",
    "    spikes_file = os.path.join(data_path, f_times)\n",
    "    spikes = np.load(spikes_file)\n",
    "    spikes = spikes.reshape(len(spikes))\n",
    "    return spikes\n",
    "\n",
    "\n",
    "def load_spikes_2_neurons(recording_name):\n",
    "    # Returns a vector of length n_spikes. Each value is the identifier of the neuron to which the spike belongs\n",
    "    data_path = os.path.join(project_path, 'data', recording_name)\n",
    "    neurons_file = os.path.join(data_path, f_clusters)\n",
    "    spikes_2_neurons = np.load(neurons_file)\n",
    "    spikes_2_neurons = spikes_2_neurons.reshape(len(spikes_2_neurons))\n",
    "    spikes_2_neurons = spikes_2_neurons.astype(int)\n",
    "    return spikes_2_neurons\n",
    "\n",
    "\n",
    "\"\"\" DATA-SET FUNCTIONS \"\"\"\n",
    "\n",
    "\n",
    "def clean_trials(trial_intervals, included_trials):\n",
    "    #   Remove trials that were not included\n",
    "    #   INPUT: trial_intervals  - onset and offset timestamps of a N trials\n",
    "    #          included_trials - boolean +1 included, 0 not included\n",
    "    #\n",
    "    idx = np.where(included_trials == 1)\n",
    "    idx = idx[0]\n",
    "    return trial_intervals[idx, :]\n",
    "\n",
    "\n",
    "def select_neurons_by_region(recording_name, region):\n",
    "    # Return a vector with the identifiers of all the neurons belonging to a given brain area\n",
    "    neuron_2_regions = load_neuron_regions(recording_name)\n",
    "    neuron_indices = np.where(np.char.equal(region, neuron_2_regions))[0]\n",
    "    return neuron_indices\n",
    "\n",
    "\n",
    "def select_neurons_by_grade(recording_name, minimum_grade):\n",
    "    # Return a vector with the identifiers of all the neurons with score >= minimum_grade\n",
    "    neuron_2_grades = load_neuron_grades(recording_name)\n",
    "    neuron_indices = np.where(neuron_2_grades > minimum_grade)[0]\n",
    "    return neuron_indices\n",
    "\n",
    "\n",
    "def generate_spike_counts(recording_name, brain_region, minimum_grade, dt, t0, tf, firing_rates=False):\n",
    "    # Selects the neuron belonging to a given brain region, and generates a data-set.\n",
    "    # Returns: a matrix [n_neurons * n_time_steps] describing how many times each neuron spiked at a given time step\n",
    "    # Arguments:\n",
    "    # brain_region: the brain region we want to analyze\n",
    "    # minimum_grade: the minimum score we accept to include a neuron in the data-set (1=bad, 2=decent, 3=good)\n",
    "    # t0 = the initial time step (seconds)\n",
    "    # tf = the final time step (seconds)\n",
    "    # dt = the length of each time step (seconds)\n",
    "    # firing_rates = if false, the returned values are spike counts. if true, it is firing rates\n",
    "\n",
    "    # select the neurons based on brain region and score\n",
    "    neuron_indices_1 = select_neurons_by_region(recording_name, brain_region)\n",
    "    neuron_indices_2 = select_neurons_by_grade(recording_name, minimum_grade)\n",
    "    neuron_indices = np.intersect1d(neuron_indices_1, neuron_indices_2)\n",
    "\n",
    "    # load spikes and spike mappings\n",
    "    spikes = load_spike_times(recording_name)\n",
    "    spikes_2_neurons = load_spikes_2_neurons(recording_name)\n",
    "\n",
    "    # generate the time steps sequence\n",
    "    time_steps = np.arange(t0, tf, dt)\n",
    "    n_time_bins = len(time_steps) - 1\n",
    "    time_bins = time_steps[1:]\n",
    "\n",
    "    n_neurons = len(neuron_indices)\n",
    "    spike_counts = np.zeros((n_neurons, n_time_bins))\n",
    "\n",
    "    for i, neuron_id in enumerate(neuron_indices):\n",
    "        # for each neuron, retrieve its spikes\n",
    "        neuron_spikes = spikes[spikes_2_neurons == neuron_id]\n",
    "\n",
    "        # generate an histogram of spike counts\n",
    "        [neuron_spike_counts, _] = np.histogram(neuron_spikes, time_steps)\n",
    "        if firing_rates:\n",
    "            neuron_spike_counts = neuron_spike_counts / dt\n",
    "        spike_counts[i, :] = neuron_spike_counts\n",
    "\n",
    "    return spike_counts, time_bins\n"
   ]
  },
  {
   "cell_type": "code",
   "execution_count": 176,
   "metadata": {},
   "outputs": [],
   "source": [
    "# functions for selecting trials of choice\n",
    "\n",
    "import pathlib\n",
    "import os.path\n",
    "import numpy as np\n",
    "\n",
    "\n",
    "\n",
    "\"\"\" FILE NAMES \"\"\"\n",
    "# Interval of trials [onset, offset]\n",
    "f_intervals = \"trials.intervals.npy\"\n",
    "# Which trials were included [boolean]\n",
    "f_included = \"trials.included.npy\"\n",
    "# Timing of visual stimulation onset\n",
    "f_visStim_times = \"trials.visualStim_times.npy\"\n",
    "# Timing of the auditory go cue\n",
    "f_cue_times = \"trials.goCue_times.npy\"\n",
    "# Response choice: -1 for right, +1 for left, 0 for no-go\n",
    "f_choice = \"trials.response_choice.npy\"\n",
    "# Response time\n",
    "f_response_times = \"trials.response_times.npy\"\n",
    "# Feedback time \n",
    "f_feedback_times = \"trials.feedback_times.npy\"\n",
    "# Feedback type:  -1 for white noise (miss), +1 for water reward (hit)\n",
    "f_feedback_types = \"trials.feedbackType.npy\"\n",
    "\n",
    "\n",
    "# Location of the project\n",
    "project_path = pathlib.Path().absolute()\n",
    "\n",
    "\n",
    "filenames = list([f_intervals, f_included, f_visStim_times, f_cue_times, f_choice, f_response_times, f_feedback_times, f_feedback_types])\n",
    "\n",
    "\n",
    "def load_trial_files (recording_name):\n",
    "    data_path = os.path.join(project_path, 'data', recording_name)\n",
    "    alldata = []\n",
    "    for filename in filenames:\n",
    "        file = os.path.join(data_path, filename)\n",
    "        data = np.load(file)\n",
    "        alldata.append(data)\n",
    "        \n",
    "    trials = {\n",
    "        'interval': alldata[0],\n",
    "        'included': alldata[1],\n",
    "        'visStim_times': alldata[2],\n",
    "        'cue_times': alldata[3],\n",
    "        'choice': alldata[4],\n",
    "        'response_time': alldata[5],\n",
    "        'feedback_times': alldata[6],\n",
    "        'feedback_types': alldata[7],\n",
    "    }\n",
    "    \n",
    "    return trials\n",
    "    \n",
    "\n",
    "def extract_clean_trials (recording_name):\n",
    "#   Remove trials that were not included\n",
    "#   INPUT: trial_intervals  - onset and offset timestamps of a N trials\n",
    "#          included_trials - boolean +1 included, 0 not included\n",
    "  trials = load_trial_files (recording_name)\n",
    "    \n",
    "  included_trials = trials['included']\n",
    "  idx = np.where(included_trials == 1 )\n",
    "  idx = idx[0]\n",
    "  \n",
    "  # Undate trials [dictionary]\n",
    "  trials['interval'] = trials['interval'][idx,:]\n",
    "  trials['included'] = trials['included'][idx,:]\n",
    "  trials['visStim_times'] = trials['visStim_times'][idx,:]\n",
    "  trials['cue_times'] = trials['cue_times'][idx,:]\n",
    "  trials['choice'] = trials['choice'][idx,:]\n",
    "  trials['response_time'] = trials['response_time'][idx,:]\n",
    "  trials['feedback_times'] = trials['feedback_times'][idx,:]\n",
    "  trials['feedback_types'] = trials['feedback_types'][idx,:]\n",
    "      \n",
    "  \n",
    "  return trials\n",
    "\n",
    "\n"
   ]
  },
  {
   "cell_type": "code",
   "execution_count": 177,
   "metadata": {},
   "outputs": [],
   "source": [
    "# function for mapping best colors scheme \n",
    "\n",
    "import numpy as np\n",
    "from sympy.utilities.iterables import multiset_permutations\n",
    "\n",
    "\n",
    "def map_states(n_states, sequence1, sequence2):\n",
    "    # Maps the best permutation of sequence 2 to sequence 1\n",
    "    all_states = range(n_states)\n",
    "\n",
    "    min_T = np.min([len(sequence1), len(sequence2)])\n",
    "    sequence1 = sequence1[:min_T]\n",
    "    sequence2 = sequence2[:min_T]\n",
    "\n",
    "    best_score = -np.inf\n",
    "    best_mapping = sequence2\n",
    "    for permutation in multiset_permutations(all_states):\n",
    "        permutation = np.array(permutation)\n",
    "        remapped_sequence2 = permutation[sequence2]\n",
    "        score = np.sum(remapped_sequence2 == sequence1)\n",
    "        if score > best_score:\n",
    "            best_score = score\n",
    "            best_mapping = remapped_sequence2\n",
    "    return best_mapping\n"
   ]
  },
  {
   "cell_type": "code",
   "execution_count": 178,
   "metadata": {},
   "outputs": [],
   "source": [
    "# plotting functions\n",
    "\n",
    "from matplotlib import pyplot as plt\n",
    "import matplotlib.patches as patches\n",
    "import numpy as np\n",
    "\n",
    "\n",
    "def plot_psths(dataset, time_bins, title, visual_time, cue_time, feedback_time):\n",
    "    plt.imshow(dataset, cmap='binary', aspect='auto')\n",
    "    plt.title(title)\n",
    "    plt.ylabel('neurons')\n",
    "    plt.xlabel('time (ms)')\n",
    "\n",
    "    x_ticks = [0, len(time_bins)-1]\n",
    "    x_labels = (time_bins[x_ticks] - time_bins[0]) * 1000\n",
    "    plt.xticks(x_ticks, x_labels.astype(int))\n",
    "\n",
    "    visual_time_bin = np.where(visual_time < time_bins)[0][0]\n",
    "    plt.axvline(visual_time_bin, color='r')\n",
    "\n",
    "    cue_time_bin = np.where(cue_time < time_bins)[0][0]\n",
    "    plt.axvline(cue_time_bin, color='g')\n",
    "\n",
    "    feedback_time_bin = np.where(feedback_time < time_bins)[0][0]\n",
    "    plt.axvline(feedback_time_bin, color='k')\n",
    "\n",
    "    plt.legend(['visual', 'cue', 'feedback'])\n",
    "\n",
    "\n",
    "def add_states_2_psth(fig, states, colors, n_neurons):\n",
    "    # Create a Rectangle patch\n",
    "    previous_state_change = 0\n",
    "    state_changes = np.where(np.diff(states))[0]\n",
    "    for state_change in state_changes:\n",
    "\n",
    "        state = states[previous_state_change]\n",
    "        c = colors[state]\n",
    "\n",
    "        state_dt = state_change - previous_state_change\n",
    "        rect = patches.Rectangle((previous_state_change, 0), state_dt, n_neurons, edgecolor='none', facecolor=c, alpha=0.2)\n",
    "        fig.add_patch(rect)\n",
    "        previous_state_change = state_change\n",
    "\n",
    "    state = states[previous_state_change]\n",
    "    c = colors[state]\n",
    "\n",
    "    state_dt = len(states) - previous_state_change\n",
    "    rect = patches.Rectangle((previous_state_change, 0), state_dt, n_neurons, edgecolor='none', facecolor=c, alpha=0.2)\n",
    "    fig.add_patch(rect)\n",
    "\n",
    "\n"
   ]
  },
  {
   "cell_type": "code",
   "execution_count": 179,
   "metadata": {},
   "outputs": [],
   "source": [
    "# main\n",
    "\n",
    "# Experimental Parameters\n",
    "recording_name = 'Cori_2016-12-14'\n",
    "brain_region = 'ACA'\n",
    "neuron_min_score = 2\n",
    "\n",
    "# Model Parameters\n",
    "bin_dt = 0.01  # seconds\n",
    "pre_stim_dt = 0.5 # seconds\n",
    "post_resp_dt = 0.5 # seconds\n",
    "n_compoments = 5\n",
    "colors = ['r', 'g', 'b', 'y', 'm', 'c']\n",
    "\n",
    "# Choose trials\n",
    "trials = extract_clean_trials(recording_name)\n",
    "conditioned_trials = np.where(trials['choice'] == 0)[0]\n",
    "\n",
    "# Run the fit\n",
    "# plt.figure()\n",
    "n_trials = 8\n",
    "for i in range(7,n_trials):\n",
    "#     fig = plt.subplot(1, n_trials, i + 1)\n",
    "\n",
    "    # Load time pointers for the given trial\n",
    "    trial = conditioned_trials[i]\n",
    "    visual_time = trials['visStim_times'][trial]\n",
    "    cue_time = trials['cue_times'][trial]\n",
    "    feedback_time = trials['feedback_times'][trial]\n",
    "\n",
    "    # generate the spike count histograms\n",
    "    t0 = visual_time - pre_stim_dt\n",
    "    tf = feedback_time + post_resp_dt\n",
    "    [dataset, time_bins] = generate_spike_counts(recording_name, brain_region, neuron_min_score, bin_dt, t0, tf)\n",
    "    (n_neurons, n_bins) = dataset.shape\n",
    "\n",
    "#     # Create a hmm model\n",
    "#     model = hmm.GaussianHMM(n_components=n_compoments, n_iter=1000)\n",
    "#     model.fit(dataset.T)\n",
    "#     [logprob, states] = model.decode(dataset.T)\n",
    "\n",
    "    # Find the best mapping of the state sequences\n",
    "#     if i == 0:\n",
    "#         states_trial0 = states\n",
    "#     else:\n",
    "#         states = map_states(n_compoments, states_trial0, states)\n",
    "\n",
    "#     # Plot\n",
    "#     title = brain_region + ' trial#' + str(trial)\n",
    "#     plot_psths(dataset, time_bins, title, visual_time, cue_time, feedback_time)\n",
    "#     add_states_2_psth(fig, states, colors, n_neurons)\n",
    "\n",
    "# plt.show()"
   ]
  },
  {
   "cell_type": "markdown",
   "metadata": {},
   "source": [
    "## step by step smm"
   ]
  },
  {
   "cell_type": "code",
   "execution_count": 180,
   "metadata": {},
   "outputs": [
    {
     "data": {
      "text/plain": [
       "<matplotlib.image.AxesImage at 0x7f7580bda320>"
      ]
     },
     "execution_count": 180,
     "metadata": {},
     "output_type": "execute_result"
    },
    {
     "data": {
      "image/png": "[encoded data removed]",
      "text/plain": [
       "<Figure size 432x288 with 1 Axes>"
      ]
     },
     "metadata": {
      "needs_background": "light"
     },
     "output_type": "display_data"
    }
   ],
   "source": [
    "plt.imshow(dataset)"
   ]
  },
  {
   "cell_type": "code",
   "execution_count": 181,
   "metadata": {},
   "outputs": [
    {
     "data": {
      "text/plain": [
       "109"
      ]
     },
     "execution_count": 181,
     "metadata": {},
     "output_type": "execute_result"
    }
   ],
   "source": [
    "dataset.shape[0]"
   ]
  },
  {
   "cell_type": "code",
   "execution_count": 182,
   "metadata": {},
   "outputs": [
    {
     "data": {
      "text/plain": [
       "310"
      ]
     },
     "execution_count": 182,
     "metadata": {},
     "output_type": "execute_result"
    }
   ],
   "source": [
    "dataset.shape[1]"
   ]
  },
  {
   "cell_type": "code",
   "execution_count": 183,
   "metadata": {},
   "outputs": [
    {
     "data": {
      "text/plain": [
       "numpy.float64"
      ]
     },
     "execution_count": 183,
     "metadata": {},
     "output_type": "execute_result"
    }
   ],
   "source": [
    "type(dataset[10][10])"
   ]
  },
  {
   "cell_type": "code",
   "execution_count": 184,
   "metadata": {},
   "outputs": [],
   "source": [
    "num_states = 3"
   ]
  },
  {
   "cell_type": "code",
   "execution_count": 185,
   "metadata": {},
   "outputs": [
    {
     "data": {
      "text/plain": [
       "109"
      ]
     },
     "execution_count": 185,
     "metadata": {},
     "output_type": "execute_result"
    }
   ],
   "source": [
    "num_neurons = dataset.shape[0]\n",
    "num_neurons"
   ]
  },
  {
   "cell_type": "code",
   "execution_count": 186,
   "metadata": {},
   "outputs": [],
   "source": [
    "dataset = dataset.astype(int)"
   ]
  },
  {
   "cell_type": "code",
   "execution_count": 187,
   "metadata": {},
   "outputs": [],
   "source": [
    "from scipy.linalg import block_diag\n",
    "import autograd.numpy as np\n",
    "import seaborn as sns\n",
    "import matplotlib.pyplot as plt\n",
    "import ssm\n"
   ]
  },
  {
   "cell_type": "code",
   "execution_count": 188,
   "metadata": {},
   "outputs": [],
   "source": [
    "# Create our HMM\n",
    "simple_hmm = ssm.HMM(num_states,\n",
    "                     num_neurons,\n",
    "                     observations=\"poisson\",\n",
    "                     transitions=\"standard\")\n"
   ]
  },
  {
   "cell_type": "code",
   "execution_count": 189,
   "metadata": {},
   "outputs": [
    {
     "data": {
      "application/vnd.jupyter.widget-view+json": {
       "model_id": "90ff9058dbcc4c2d87ccfabf4cd3c127",
       "version_major": 2,
       "version_minor": 0
      },
      "text/plain": [
       "HBox(children=(FloatProgress(value=0.0), HTML(value='')))"
      ]
     },
     "metadata": {},
     "output_type": "display_data"
    },
    {
     "name": "stdout",
     "output_type": "stream",
     "text": [
      "\n"
     ]
    }
   ],
   "source": [
    "lls = simple_hmm.fit(dataset.T)"
   ]
  },
  {
   "cell_type": "code",
   "execution_count": 190,
   "metadata": {},
   "outputs": [],
   "source": [
    "states_ = simple_hmm.most_likely_states(dataset.T)"
   ]
  },
  {
   "cell_type": "code",
   "execution_count": 192,
   "metadata": {},
   "outputs": [
    {
     "data": {
      "text/plain": [
       "[<matplotlib.lines.Line2D at 0x7f7580321dd8>]"
      ]
     },
     "execution_count": 192,
     "metadata": {},
     "output_type": "execute_result"
    },
    {
     "data": {
      "image/png": "[encoded data removed]",
      "text/plain": [
       "<Figure size 432x288 with 1 Axes>"
      ]
     },
     "metadata": {
      "needs_background": "light"
     },
     "output_type": "display_data"
    }
   ],
   "source": [
    "plt.plot(states_)"
   ]
  },
  {
   "cell_type": "code",
   "execution_count": 195,
   "metadata": {},
   "outputs": [],
   "source": [
    "post_trial = 7\n",
    "\n",
    "trial = conditioned_trials[post_trial]\n",
    "visual_time = trials['visStim_times'][trial]\n",
    "cue_time = trials['cue_times'][trial]\n",
    "feedback_time = trials['feedback_times'][trial]\n",
    "\n",
    "t0 = visual_time - pre_stim_dt\n",
    "tf = feedback_time + post_resp_dt\n",
    "[dataset, time_bins] = generate_spike_counts(recording_name, brain_region, neuron_min_score, bin_dt, t0, tf)\n",
    "(n_neurons, n_bins) = dataset.shape\n",
    "\n",
    "post_dataset = dataset\n",
    "post_dataset = post_dataset.astype(int)"
   ]
  },
  {
   "cell_type": "code",
   "execution_count": 196,
   "metadata": {},
   "outputs": [],
   "source": [
    "posterior = simple_hmm.filter(post_dataset.T)"
   ]
  },
  {
   "cell_type": "code",
   "execution_count": 198,
   "metadata": {},
   "outputs": [
    {
     "data": {
      "text/plain": [
       "<matplotlib.legend.Legend at 0x7f7580269c18>"
      ]
     },
     "execution_count": 198,
     "metadata": {},
     "output_type": "execute_result"
    },
    {
     "data": {
      "image/png": "[encoded data removed]",
      "text/plain": [
       "<Figure size 432x288 with 1 Axes>"
      ]
     },
     "metadata": {
      "needs_background": "light"
     },
     "output_type": "display_data"
    }
   ],
   "source": [
    "for i in range(num_states):\n",
    "    plt.plot(posterior[:,i], label=\"State %d\" % i)\n",
    "    plt.xlim(0,100)\n",
    "plt.legend()\n"
   ]
  }
 ],
 "metadata": {
  "@webio": {
   "lastCommId": null,
   "lastKernelId": null
  },
  "kernelspec": {
   "display_name": "Python 3",
   "language": "python",
   "name": "python3"
  },
  "language_info": {
   "codemirror_mode": {
    "name": "ipython",
    "version": 3
   },
   "file_extension": ".py",
   "mimetype": "text/x-python",
   "name": "python",
   "nbconvert_exporter": "python",
   "pygments_lexer": "ipython3",
   "version": "3.6.9"
  }
 },
 "nbformat": 4,
 "nbformat_minor": 4
}
