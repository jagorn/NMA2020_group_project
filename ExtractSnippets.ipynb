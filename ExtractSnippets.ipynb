{
  "nbformat": 4,
  "nbformat_minor": 0,
  "metadata": {
    "colab": {
      "name": "ExtractSnippets.ipynb",
      "provenance": [],
      "authorship_tag": "ABX9TyNgEkvIQuN33F66fwHee8+m",
      "include_colab_link": true
    },
    "kernelspec": {
      "name": "python3",
      "display_name": "Python 3"
    }
  },
  "cells": [
    {
      "cell_type": "markdown",
      "metadata": {
        "id": "view-in-github",
        "colab_type": "text"
      },
      "source": [
        "<a href=\"https://colab.research.google.com/github/jagorn/NMA2020_group_project/blob/master/ExtractSnippets.ipynb\" target=\"_parent\"><img src=\"https://colab.research.google.com/assets/colab-badge.svg\" alt=\"Open In Colab\"/></a>"
      ]
    },
    {
      "cell_type": "markdown",
      "metadata": {
        "id": "d-fMLPJG40aX",
        "colab_type": "text"
      },
      "source": [
        "\n",
        "# Setup\n",
        "\n"
      ]
    },
    {
      "cell_type": "code",
      "metadata": {
        "id": "T2AxXu-0dW6N",
        "colab_type": "code",
        "colab": {
          "base_uri": "https://localhost:8080/",
          "height": 35
        },
        "outputId": "95b307f6-5d66-4f53-d8fc-ec3f01ab0a7e"
      },
      "source": [
        "import numpy as np\n",
        "import pandas as pd\n",
        "import matplotlib.pyplot as plt\n",
        "import scipy\n",
        "from scipy import sparse\n",
        "import os.path\n",
        "from os import path\n",
        "import matplotlib.pyplot as plt\n",
        "%matplotlib inline\n",
        "from google.colab import drive\n",
        "drive.mount('/content/drive')"
      ],
      "execution_count": 12,
      "outputs": [
        {
          "output_type": "stream",
          "text": [
            "Drive already mounted at /content/drive; to attempt to forcibly remount, call drive.mount(\"/content/drive\", force_remount=True).\n"
          ],
          "name": "stdout"
        }
      ]
    },
    {
      "cell_type": "markdown",
      "metadata": {
        "id": "HD-aVYnZryo-",
        "colab_type": "text"
      },
      "source": [
        "# Load data"
      ]
    },
    {
      "cell_type": "code",
      "metadata": {
        "id": "LFMEWN_YdV0u",
        "colab_type": "code",
        "colab": {}
      },
      "source": [
        "# Load data\n",
        "drivepath = 'drive/My Drive/NMA project/Cori_2016-12-14/'\n",
        "spiketimes = np.load(drivepath + 'spikes.times.npy')\n",
        "clusters = np.load(drivepath + 'spikes.clusters.npy')\n",
        "trial_intervals = np.load(drivepath + 'trials.intervals.npy')\n",
        "included_trials = np.load(drivepath + 'trials.included.npy')\n"
      ],
      "execution_count": 77,
      "outputs": []
    },
    {
      "cell_type": "code",
      "metadata": {
        "id": "_QZWV9r07WWw",
        "colab_type": "code",
        "colab": {}
      },
      "source": [
        "def sort_and_clean():\n",
        "    \"\"\"\n",
        "    Returns a dict where keys -> brain areas and values -> list of neurons.\n",
        "    Neurons with bad quality scores (less than 2) are exluded.\n",
        "    \"\"\"\n",
        "    # Create a list where index -> neuron and value -> area:\n",
        "    matched = [areas_from_channels[int(c)] for c in channels]\n",
        "    # Find the indices (aka neurons) where they have a score < 2:\n",
        "    bad_indices = [i for i, score in enumerate(quality) if score[0] < 2]\n",
        "    # Create a dictionary to sort neurons according to areas:\n",
        "    d = {}\n",
        "    for index, area in enumerate(matched): # Iterate index and value together\n",
        "        # Discard bad recordings:\n",
        "        if index not in bad_indices:\n",
        "            # If the area is already a key then append this neuron index\n",
        "            if area in d.keys():\n",
        "                d[area].append(index)\n",
        "            # Else create a new key for a single element list\n",
        "            else:\n",
        "                d[area] = [index]\n",
        "    return d"
      ],
      "execution_count": null,
      "outputs": []
    },
    {
      "cell_type": "markdown",
      "metadata": {
        "id": "XA_I3blmr46P",
        "colab_type": "text"
      },
      "source": [
        "# Remove discarded trials\n"
      ]
    },
    {
      "cell_type": "code",
      "metadata": {
        "id": "Zjc8lPrKWgVL",
        "colab_type": "code",
        "colab": {}
      },
      "source": [
        "def clean_trials (trial_intervals, included_trials):\n",
        "#   Remove trials that were not included\n",
        "#   INPUT: trial_intervals  - onset and offset timestamps of a N trials\n",
        "#          included_trials - boolean +1 included, 0 not included\n",
        "#\n",
        "  idx = np.where(included_trials == 1 )\n",
        "  idx = idx[0]\n",
        "  return trial_intervals[idx,:]\n",
        "\n"
      ],
      "execution_count": 69,
      "outputs": []
    },
    {
      "cell_type": "code",
      "metadata": {
        "id": "lL08cmPpdnb5",
        "colab_type": "code",
        "colab": {
          "base_uri": "https://localhost:8080/",
          "height": 52
        },
        "outputId": "8648574a-1aa9-4cbb-fd40-626685619ef3"
      },
      "source": [
        "clean_trial_intervals = clean_trials(trial_intervals, included_trials)\n",
        "print ('Shape before cleaning:',trial_intervals.shape)\n",
        "print ('Shape after cleaning:',clean_trial_intervals.shape)\n",
        "\n"
      ],
      "execution_count": 114,
      "outputs": [
        {
          "output_type": "stream",
          "text": [
            "Shape before cleaning: (214, 2)\n",
            "Shape after cleaning: (201, 2)\n"
          ],
          "name": "stdout"
        }
      ]
    },
    {
      "cell_type": "markdown",
      "metadata": {
        "id": "ql9Eus97sBJc",
        "colab_type": "text"
      },
      "source": [
        "# Extract spike snippets during trials"
      ]
    },
    {
      "cell_type": "code",
      "metadata": {
        "id": "nnRTJ-geVPq2",
        "colab_type": "code",
        "colab": {}
      },
      "source": [
        "def extract_snippets_spikes (trial_intervals, spiketimes, clusters):\n",
        "#   Extract spiketimes and unit id (clusters) occured within the trial window.\n",
        "#   INPUT : trial_intervals  - onset and offset timestamps of a N trials, use cleaned version\n",
        "#           spiketimes - a vector containing spike times\n",
        "#            clusters - unit/neuron id for a given spike, same shape as spiketimes\n",
        "#       \n",
        "#  OUTPUT: snippets  - spiketimes and unit id during trials. List size of N trials each containing n x 2 array (spiketimes, unit id)\n",
        "\n",
        "  TrialNum = trial_intervals.shape[0]\n",
        "\n",
        "  # Initialize\n",
        "  snippets = []\n",
        "  for trial in range(0,TrialNum):\n",
        "    spikes = [];\n",
        "    # Onset and offset of a trial\n",
        "    onset = trial_intervals[trial,0]\n",
        "    offset = trial_intervals[trial,1]\n",
        "    \n",
        "    # Spikes between trial onset and offset\n",
        "    idx = np.where((spiketimes >= onset) & (spiketimes < offset))\n",
        "    idx = idx[0] # only the indices\n",
        "    spikes= spiketimes[idx]\n",
        "    spikes = np.concatenate((spikes,clusters[idx]), axis=1) #concatenate corresponding unit id\n",
        "    \n",
        "    snippets.append(spikes);\n",
        "    \n",
        "\n",
        "  return snippets"
      ],
      "execution_count": 174,
      "outputs": []
    },
    {
      "cell_type": "code",
      "metadata": {
        "id": "A9vA7MgkVPyD",
        "colab_type": "code",
        "colab": {}
      },
      "source": [
        "snippets = extract_snippets_spikes (clean_trial_intervals, spiketimes, clusters)"
      ],
      "execution_count": 175,
      "outputs": []
    },
    {
      "cell_type": "code",
      "metadata": {
        "id": "3vfvAVBx30Lg",
        "colab_type": "code",
        "colab": {
          "base_uri": "https://localhost:8080/",
          "height": 283
        },
        "outputId": "a588d1ca-9810-4aa4-fcfb-c973e65813c2"
      },
      "source": [
        "# Raster plot from a trial\n",
        "trialnum = 6\n",
        "plt.plot(snippets[trialnum][:,0], snippets[trialnum][:,1], 'o')\n"
      ],
      "execution_count": 192,
      "outputs": [
        {
          "output_type": "execute_result",
          "data": {
            "text/plain": [
              "[<matplotlib.lines.Line2D at 0x7fa2205599e8>]"
            ]
          },
          "metadata": {
            "tags": []
          },
          "execution_count": 192
        },
        {
          "output_type": "display_data",
          "data": {
            "image/png": "[encoded data removed]",
            "text/plain": [
              "<Figure size 432x288 with 1 Axes>"
            ]
          },
          "metadata": {
            "tags": [],
            "needs_background": "light"
          }
        }
      ]
    },
    {
      "cell_type": "code",
      "metadata": {
        "id": "LteVpc-A7Re7",
        "colab_type": "code",
        "colab": {}
      },
      "source": [
        ""
      ],
      "execution_count": null,
      "outputs": []
    },
    {
      "cell_type": "code",
      "metadata": {
        "id": "Xs_uajB57RXS",
        "colab_type": "code",
        "colab": {}
      },
      "source": [
        ""
      ],
      "execution_count": null,
      "outputs": []
    }
  ]
}