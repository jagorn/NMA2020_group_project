{
  "nbformat": 4,
  "nbformat_minor": 0,
  "metadata": {
    "colab": {
      "name": "ExtractSnippets.ipynb",
      "provenance": [],
      "authorship_tag": "ABX9TyORNe52WmYDCpUQsUffnqdl",
      "include_colab_link": true
    },
    "kernelspec": {
      "name": "python3",
      "display_name": "Python 3"
    }
  },
  "cells": [
    {
      "cell_type": "markdown",
      "metadata": {
        "id": "view-in-github",
        "colab_type": "text"
      },
      "source": [
        "<a href=\"https://colab.research.google.com/github/jagorn/NMA2020_group_project/blob/master/ExtractSnippets.ipynb\" target=\"_parent\"><img src=\"https://colab.research.google.com/assets/colab-badge.svg\" alt=\"Open In Colab\"/></a>"
      ]
    },
    {
      "cell_type": "markdown",
      "metadata": {
        "id": "d-fMLPJG40aX",
        "colab_type": "text"
      },
      "source": [
        "\n",
        "# Setup\n",
        "\n"
      ]
    },
    {
      "cell_type": "code",
      "metadata": {
        "id": "T2AxXu-0dW6N",
        "colab_type": "code",
        "colab": {
          "base_uri": "https://localhost:8080/",
          "height": 35
        },
        "outputId": "95b307f6-5d66-4f53-d8fc-ec3f01ab0a7e"
      },
      "source": [
        "import numpy as np\n",
        "import pandas as pd\n",
        "import matplotlib.pyplot as plt\n",
        "import scipy\n",
        "from scipy import sparse\n",
        "import os.path\n",
        "from os import path\n",
        "import matplotlib.pyplot as plt\n",
        "%matplotlib inline\n",
        "from google.colab import drive\n",
        "drive.mount('/content/drive')"
      ],
      "execution_count": 12,
      "outputs": [
        {
          "output_type": "stream",
          "text": [
            "Drive already mounted at /content/drive; to attempt to forcibly remount, call drive.mount(\"/content/drive\", force_remount=True).\n"
          ],
          "name": "stdout"
        }
      ]
    },
    {
      "cell_type": "markdown",
      "metadata": {
        "id": "HD-aVYnZryo-",
        "colab_type": "text"
      },
      "source": [
        "# Load data"
      ]
    },
    {
      "cell_type": "code",
      "metadata": {
        "id": "LFMEWN_YdV0u",
        "colab_type": "code",
        "colab": {}
      },
      "source": [
        "# Load data\n",
        "drivepath = 'drive/My Drive/NMA project/Cori_2016-12-14/'\n",
        "spiketimes = np.load(drivepath + 'spikes.times.npy')\n",
        "clusters = np.load(drivepath + 'spikes.clusters.npy')\n",
        "trial_intervals = np.load(drivepath + 'trials.intervals.npy')\n",
        "included_trials = np.load(drivepath + 'trials.included.npy')\n",
        "visualStim_times = np.load(drivepath + 'trials.visualStim_times.npy')\n",
        "goCueTimes = np.load(drivepath +'trials.goCue_times.npy')"
      ],
      "execution_count": 193,
      "outputs": []
    },
    {
      "cell_type": "markdown",
      "metadata": {
        "id": "lk8U5BcwL_u-",
        "colab_type": "text"
      },
      "source": [
        "Load data for Michalis' function\n"
      ]
    },
    {
      "cell_type": "code",
      "metadata": {
        "id": "Ic0Wi8FJLU19",
        "colab_type": "code",
        "colab": {}
      },
      "source": [
        "f_areas = 'channels.brainLocation.tsv'\n",
        "with open(drivepath + f_areas) as file: # open file as a single string\n",
        "    lines = file.read().splitlines() # split new lines (string -> list of strings)\n",
        "\n",
        "# Quality of recordings for a given active neuron\n",
        "f_quality = 'clusters._phy_annotation.npy'\n",
        "# Which neuron was detected by which channel:\n",
        "f_channels = 'clusters.peakChannel.npy'\n",
        "\n",
        "# LOAD FILES AND CLEAN UNECESSARY INFORMATION .........................\n",
        "# A list where index -> channel,  value -> brain area\n",
        "areas_from_channels = [line.split('\\t')[-1] for line in lines[1:]]\n",
        "# 1D numpy array where index -> neuron, value -> channel where it is recorded from\n",
        "channels = np.load(drivepath +f_channels)\n",
        "# 1D numpy array where index -> neuron and value -> recording quality score (good >= 2)\n",
        "quality = np.load(drivepath + f_quality) # index -> cluster (neuron)\n"
      ],
      "execution_count": 256,
      "outputs": []
    },
    {
      "cell_type": "markdown",
      "metadata": {
        "id": "Dk_KOfV0MISb",
        "colab_type": "text"
      },
      "source": [
        "# Mapping units and brain areas"
      ]
    },
    {
      "cell_type": "code",
      "metadata": {
        "id": "_QZWV9r07WWw",
        "colab_type": "code",
        "colab": {}
      },
      "source": [
        "\n",
        "def sort_and_clean():\n",
        "    \"\"\"\n",
        "    Returns a dict where keys -> brain areas and values -> list of neurons.\n",
        "    Neurons with bad quality scores (less than 2) are exluded.\n",
        "    \"\"\"\n",
        "    # Create a list where index -> neuron and value -> area:\n",
        "    matched = [areas_from_channels[int(c)] for c in channels]\n",
        "    # Find the indices (aka neurons) where they have a score < 2:\n",
        "    bad_indices = [i for i, score in enumerate(quality) if score[0] < 2]\n",
        "    # Create a dictionary to sort neurons according to areas:\n",
        "    d = {}\n",
        "    for index, area in enumerate(matched): # Iterate index and value together\n",
        "        # Discard bad recordings:\n",
        "        if index not in bad_indices:\n",
        "            # If the area is already a key then append this neuron index\n",
        "            if area in d.keys():\n",
        "                d[area].append(index)\n",
        "            # Else create a new key for a single element list\n",
        "            else:\n",
        "                d[area] = [index]\n",
        "    return d"
      ],
      "execution_count": 257,
      "outputs": []
    },
    {
      "cell_type": "code",
      "metadata": {
        "id": "v3gP_KbSLT6q",
        "colab_type": "code",
        "colab": {
          "base_uri": "https://localhost:8080/",
          "height": 72
        },
        "outputId": "32936bbf-4108-4699-a87f-907194c4ce2b"
      },
      "source": [
        "good_data = sort_and_clean()\n",
        "print(good_data.keys())\n",
        "print(good_data['CA3'])"
      ],
      "execution_count": 258,
      "outputs": [
        {
          "output_type": "stream",
          "text": [
            "dict_keys(['ACA', 'MOs', 'LS', 'root', 'VISp', 'CA3', 'SUB', 'DG'])\n",
            "[554, 555, 572, 573, 576, 589, 590, 595, 605, 627, 638, 657, 661, 682, 683, 694, 696, 713, 717, 723, 747, 760, 768, 774, 824, 825, 827, 838, 841, 854, 861, 902, 906, 910, 911, 923, 939, 942, 955, 956, 960, 981, 987, 992, 1008, 1029, 1030, 1031, 1033, 1035, 1041, 1043, 1046, 1052, 1055, 1059, 1061, 1064, 1065, 1066, 1069, 1070, 1073, 1074, 1075, 1078]\n"
          ],
          "name": "stdout"
        }
      ]
    },
    {
      "cell_type": "markdown",
      "metadata": {
        "id": "XA_I3blmr46P",
        "colab_type": "text"
      },
      "source": [
        "# Remove discarded trials\n"
      ]
    },
    {
      "cell_type": "code",
      "metadata": {
        "id": "Zjc8lPrKWgVL",
        "colab_type": "code",
        "colab": {}
      },
      "source": [
        "def clean_trials (trial_intervals, included_trials):\n",
        "#   Remove trials that were not included\n",
        "#   INPUT: trial_intervals  - onset and offset timestamps of a N trials\n",
        "#          included_trials - boolean +1 included, 0 not included\n",
        "#\n",
        "  idx = np.where(included_trials == 1 )\n",
        "  idx = idx[0]\n",
        "  return trial_intervals[idx,:]\n",
        "\n"
      ],
      "execution_count": 69,
      "outputs": []
    },
    {
      "cell_type": "code",
      "metadata": {
        "id": "lL08cmPpdnb5",
        "colab_type": "code",
        "colab": {
          "base_uri": "https://localhost:8080/",
          "height": 52
        },
        "outputId": "8648574a-1aa9-4cbb-fd40-626685619ef3"
      },
      "source": [
        "clean_trial_intervals = clean_trials(trial_intervals, included_trials)\n",
        "print ('Shape before cleaning:',trial_intervals.shape)\n",
        "print ('Shape after cleaning:',clean_trial_intervals.shape)\n",
        "\n"
      ],
      "execution_count": 114,
      "outputs": [
        {
          "output_type": "stream",
          "text": [
            "Shape before cleaning: (214, 2)\n",
            "Shape after cleaning: (201, 2)\n"
          ],
          "name": "stdout"
        }
      ]
    },
    {
      "cell_type": "markdown",
      "metadata": {
        "id": "ql9Eus97sBJc",
        "colab_type": "text"
      },
      "source": [
        "# Extract spike snippets during trials"
      ]
    },
    {
      "cell_type": "code",
      "metadata": {
        "id": "nnRTJ-geVPq2",
        "colab_type": "code",
        "colab": {}
      },
      "source": [
        "def extract_snippets_spikes (trial_intervals, spiketimes, clusters):\n",
        "#   Extract spiketimes and unit id (clusters) occured within the trial window.\n",
        "#   INPUT : trial_intervals  - onset and offset timestamps of a N trials, use cleaned version\n",
        "#           spiketimes - a vector containing spike times\n",
        "#            clusters - unit/neuron id for a given spike, same shape as spiketimes\n",
        "#       \n",
        "#  OUTPUT: snippets  - spiketimes and unit id during trials. List size of N trials each containing n x 2 array (spiketimes, unit id)\n",
        "\n",
        "  TrialNum = trial_intervals.shape[0]\n",
        "\n",
        "  # Initialize\n",
        "  snippets = []\n",
        "  for trial in range(0,TrialNum):\n",
        "    spikes = [];\n",
        "    # Onset and offset of a trial\n",
        "    onset = trial_intervals[trial,0]\n",
        "    offset = trial_intervals[trial,1]\n",
        "    \n",
        "    # Spikes between trial onset and offset\n",
        "    idx = np.where((spiketimes >= onset) & (spiketimes < offset))\n",
        "    idx = idx[0] # only the indices\n",
        "    spikes= spiketimes[idx]\n",
        "    spikes = np.concatenate((spikes,clusters[idx]), axis=1) #concatenate corresponding unit id\n",
        "    \n",
        "    snippets.append(spikes);\n",
        "    \n",
        "\n",
        "  return snippets"
      ],
      "execution_count": 174,
      "outputs": []
    },
    {
      "cell_type": "code",
      "metadata": {
        "id": "A9vA7MgkVPyD",
        "colab_type": "code",
        "colab": {}
      },
      "source": [
        "snippets = extract_snippets_spikes (clean_trial_intervals, spiketimes, clusters)"
      ],
      "execution_count": 175,
      "outputs": []
    },
    {
      "cell_type": "code",
      "metadata": {
        "id": "3vfvAVBx30Lg",
        "colab_type": "code",
        "colab": {},
        "cellView": "code"
      },
      "source": [
        "def plot_raster_and_histogram(snippets, trialnum=0):\n",
        "  # Raster plot from a trial\n",
        "  \n",
        "  #fig, (ax1, ax2) = plt.subplots(2, 1, sharey=True, tight_layout=True)\n",
        "\n",
        "  ax1 = plt.subplot(211)\n",
        "  ax1.plot(snippets[trialnum][:,0], snippets[trialnum][:,1], 'o')\n",
        "  ax1.set(xlabel = 'time', ylabel= 'neuron id', ylim=[0, 1200], title = 'Raster plot')  \n",
        "\n",
        "  ax2 = plt.subplot(212)\n",
        "  interval = clean_trial_intervals[trialnum,1] -clean_trial_intervals[trialnum,0]\n",
        "  binsize = 0.100 # 100 ms\n",
        "  n_bins = int(np.floor(interval/binsize)) # ms\n",
        "\n",
        "  ax2.hist(snippets[trialnum][:,0], bins=n_bins)\n",
        "  ax2.set(xlabel='time', ylabel='spikes/s',ylim=[0, 1000], title = 'Population Histogram')"
      ],
      "execution_count": 246,
      "outputs": []
    },
    {
      "cell_type": "code",
      "metadata": {
        "id": "Xs_uajB57RXS",
        "colab_type": "code",
        "colab": {
          "base_uri": "https://localhost:8080/",
          "height": 295
        },
        "outputId": "107576e3-a210-4020-ff3d-5082f2affe55"
      },
      "source": [
        "trialnum = 100\n",
        "plot_raster_and_histogram(snippets, trialnum=trialnum)"
      ],
      "execution_count": 248,
      "outputs": [
        {
          "output_type": "display_data",
          "data": {
            "image/png": "[encoded data removed]",
            "text/plain": [
              "<Figure size 432x288 with 2 Axes>"
            ]
          },
          "metadata": {
            "tags": [],
            "needs_background": "light"
          }
        }
      ]
    }
  ]
}